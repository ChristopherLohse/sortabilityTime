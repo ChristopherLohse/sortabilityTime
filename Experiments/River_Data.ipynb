{
 "cells": [
  {
   "cell_type": "code",
   "execution_count": null,
   "metadata": {},
   "outputs": [],
   "source": [
    "import pandas as pd\n",
    "import pickle\n",
    "from sortabilitytime.sortnregress_time import (\n",
    "    var_sort_regress,\n",
    "    r2_sort_regress_ts,\n",
    "    r2_sort_regress,\n",
    "    random_sort_regress_ts,\n",
    "    random_sort_regress,\n",
    "    var_sort_regress_ts_reverse,\n",
    "    var_sort_regress_reverse,\n",
    "    var_sort_regress,\n",
    "    var_sort_regress_ts,\n",
    "    ts_graph_to_summary_graph,\n",
    ")\n",
    "from sortabilitytime.sortability_ts import var_sortability, r2_sortability\n",
    "from sortabilitytime.dynotears import Dynotears\n",
    "from tigramite.pcmci import PCMCI\n",
    "from tigramite.independence_tests.parcorr import ParCorr\n",
    "import tigramite.data_processing as pp\n",
    "from tigramite.independence_tests.parcorr import ParCorr\n",
    "import numpy as np\n",
    "import warnings\n",
    "from sklearn.metrics import f1_score\n",
    "import warnings\n",
    "warnings.filterwarnings(\"ignore\")\n",
    "from tqdm import tqdm"
   ]
  },
  {
   "cell_type": "code",
   "execution_count": 2,
   "metadata": {},
   "outputs": [],
   "source": [
    "rivers = [\n",
    "    \"danube\",\n",
    "    \"lower-colorado\",\n",
    "    \"middle-colorado\",\n",
    "    \"upper-colorado\",\n",
    "]\n"
   ]
  },
  {
   "cell_type": "code",
   "execution_count": 10,
   "metadata": {},
   "outputs": [],
   "source": [
    "results = pd.DataFrame()"
   ]
  },
  {
   "cell_type": "code",
   "execution_count": 4,
   "metadata": {},
   "outputs": [
    {
     "data": {
      "text/plain": [
       "['danube', 'lower-colorado', 'middle-colorado', 'upper-colorado']"
      ]
     },
     "execution_count": 4,
     "metadata": {},
     "output_type": "execute_result"
    }
   ],
   "source": [
    "rivers"
   ]
  },
  {
   "cell_type": "code",
   "execution_count": 3,
   "metadata": {},
   "outputs": [],
   "source": [
    "\n",
    "parcorr = ParCorr(\n",
    "    significance=\"analytic\",\n",
    "    #                   mask_type='y'\n",
    ")"
   ]
  },
  {
   "cell_type": "code",
   "execution_count": null,
   "metadata": {},
   "outputs": [
    {
     "name": "stderr",
     "output_type": "stream",
     "text": [
      "100%|██████████| 4/4 [00:05<00:00,  1.49s/it]\n"
     ]
    }
   ],
   "source": [
    "r2s = []\n",
    "vars = []\n",
    "f1s_var_sortnregress = []\n",
    "f1s_var_sortnregress_reverse = []\n",
    "f1s_r2_sortnregress = []\n",
    "f1s_random = []\n",
    "f1s_pcmci = []\n",
    "\n",
    "tau_max = 4\n",
    "\n",
    "for river in tqdm(rivers):\n",
    "    data_file = f\"../Data/River/{river}/data.pk\" \n",
    "    with open(data_file, \"rb\") as file_name:\n",
    "        obj = pickle.load(file_name)\n",
    "        df = pd.DataFrame(obj[\"data\"], columns=obj[\"columns\"])\n",
    "        labels = obj[\"labels\"]\n",
    "        G_true = obj[\"G_true\"]\n",
    "        df = df.dropna()\n",
    "        vars.append(var_sortability(df.to_numpy(), G_true))\n",
    "\n",
    "        r2s.append(r2_sortability(df.to_numpy(), G_true))\n",
    "        data = df.to_numpy()\n",
    "        dataframe = pp.DataFrame(data)\n",
    "        pcmci = PCMCI(dataframe=dataframe, cond_ind_test=parcorr, verbosity=0)\n",
    "        results_pcmci = pcmci.run_pcmciplus(tau_max=3, pc_alpha=0.01)\n",
    "        results_pcmci[\"p_matrix\"] = np.where(\n",
    "        results_pcmci[\"p_matrix\"] < 0.01, results_pcmci[\"p_matrix\"], 0)\n",
    "        a_pcmci = results_pcmci[\"p_matrix\"]\n",
    "        a_pcmci[a_pcmci != 0] = 1\n",
    "\n",
    "        a_pcmci = ts_graph_to_summary_graph(a_pcmci)\n",
    "\n",
    "        a_est_var_sortnregress = var_sort_regress_ts(data, tau_max=tau_max)\n",
    "\n",
    "        a_est_var_sortnregress_reverse = var_sort_regress_ts_reverse(data, tau_max=tau_max)\n",
    "        a_est_r2_sortnregress = r2_sort_regress_ts(data, tau_max=tau_max)\n",
    "        a_est_var_sortnregress[:, :, 0] = var_sort_regress(data)\n",
    "        a_est_var_sortnregress_reverse[:, :, 0] = var_sort_regress_reverse(data)\n",
    "        a_est_r2_sortnregress[:, :, 0] = r2_sort_regress(data)\n",
    "        a_est_random = random_sort_regress_ts(data, tau_max=tau_max)\n",
    "        a_est_random[:, :, 0] = random_sort_regress(data)\n",
    "\n",
    "        a_est_var_sortnregress = ts_graph_to_summary_graph(a_est_var_sortnregress)\n",
    "\n",
    "        a_est_var_sortnregress_reverse = ts_graph_to_summary_graph(a_est_var_sortnregress_reverse)\n",
    "\n",
    "        a_est_r2_sortnregress = ts_graph_to_summary_graph(a_est_r2_sortnregress)\n",
    "\n",
    "        a_est_random = ts_graph_to_summary_graph(a_est_random)\n",
    "\n",
    "        # replace all values above !=0 with 1\n",
    "        a_est_var_sortnregress[a_est_var_sortnregress != 0] = 1\n",
    "        a_est_r2_sortnregress[a_est_r2_sortnregress != 0] = 1\n",
    "        a_est_random[a_est_random != 0] = 1\n",
    "        f1_var_sortnregress = f1_score(\n",
    "            G_true.flatten(), a_est_var_sortnregress.flatten()\n",
    "        )\n",
    "\n",
    "        f1_var_sortnregress_reverse = f1_score(\n",
    "            G_true.flatten(), a_est_var_sortnregress_reverse.flatten()\n",
    "        )\n",
    "        f1_r2_sortnregress = f1_score(G_true.flatten(), a_est_r2_sortnregress.flatten())\n",
    "        f1_random = f1_score(G_true.flatten(), a_est_random.flatten())\n",
    "        f1_pcmci = f1_score(G_true.flatten(), a_pcmci.flatten())\n",
    "\n",
    "        f1s_var_sortnregress.append(f1_var_sortnregress)\n",
    "        f1s_r2_sortnregress.append(f1_r2_sortnregress)\n",
    "        f1s_random.append(f1_random)\n",
    "        f1s_pcmci.append(f1_pcmci)\n",
    "        f1s_var_sortnregress_reverse.append(f1_var_sortnregress_reverse)\n",
    "\n",
    "\n",
    "# results[\"auc_dynotears\"] = aucs_dynotears"
   ]
  },
  {
   "cell_type": "code",
   "execution_count": 11,
   "metadata": {},
   "outputs": [],
   "source": [
    "results[\"river\"] = rivers\n",
    "results[\"var-sortability\"] = vars\n",
    "results[\"$r^2$-sortability\"] = r2s\n",
    "results[\"f1_var_sortnregress\"] = f1s_var_sortnregress\n",
    "results[\"f1_var_sortnregress_reverse\"] = f1s_var_sortnregress_reverse\n",
    "results[\"f1_r2_sortnregress\"] = f1s_r2_sortnregress\n",
    "results[\"f1_random\"] = f1s_random\n",
    "results[\"f1_pcmci\"] = f1s_pcmci"
   ]
  },
  {
   "cell_type": "code",
   "execution_count": 12,
   "metadata": {},
   "outputs": [
    {
     "data": {
      "text/html": [
       "<div>\n",
       "<style scoped>\n",
       "    .dataframe tbody tr th:only-of-type {\n",
       "        vertical-align: middle;\n",
       "    }\n",
       "\n",
       "    .dataframe tbody tr th {\n",
       "        vertical-align: top;\n",
       "    }\n",
       "\n",
       "    .dataframe thead th {\n",
       "        text-align: right;\n",
       "    }\n",
       "</style>\n",
       "<table border=\"1\" class=\"dataframe\">\n",
       "  <thead>\n",
       "    <tr style=\"text-align: right;\">\n",
       "      <th></th>\n",
       "      <th>river</th>\n",
       "      <th>var-sortability</th>\n",
       "      <th>$r^2$-sortability</th>\n",
       "      <th>f1_var_sortnregress</th>\n",
       "      <th>f1_var_sortnregress_reverse</th>\n",
       "      <th>f1_r2_sortnregress</th>\n",
       "      <th>f1_random</th>\n",
       "      <th>f1_pcmci</th>\n",
       "    </tr>\n",
       "  </thead>\n",
       "  <tbody>\n",
       "    <tr>\n",
       "      <th>0</th>\n",
       "      <td>danube</td>\n",
       "      <td>0.07</td>\n",
       "      <td>0.82</td>\n",
       "      <td>0.08</td>\n",
       "      <td>0.19</td>\n",
       "      <td>0.17</td>\n",
       "      <td>0.12</td>\n",
       "      <td>0.56</td>\n",
       "    </tr>\n",
       "    <tr>\n",
       "      <th>1</th>\n",
       "      <td>lower-colorado</td>\n",
       "      <td>0.35</td>\n",
       "      <td>0.61</td>\n",
       "      <td>0.09</td>\n",
       "      <td>0.08</td>\n",
       "      <td>0.08</td>\n",
       "      <td>0.11</td>\n",
       "      <td>0.36</td>\n",
       "    </tr>\n",
       "    <tr>\n",
       "      <th>2</th>\n",
       "      <td>middle-colorado</td>\n",
       "      <td>0.29</td>\n",
       "      <td>0.94</td>\n",
       "      <td>0.10</td>\n",
       "      <td>0.23</td>\n",
       "      <td>0.26</td>\n",
       "      <td>0.15</td>\n",
       "      <td>0.26</td>\n",
       "    </tr>\n",
       "    <tr>\n",
       "      <th>3</th>\n",
       "      <td>upper-colorado</td>\n",
       "      <td>0.43</td>\n",
       "      <td>0.95</td>\n",
       "      <td>0.26</td>\n",
       "      <td>0.06</td>\n",
       "      <td>0.29</td>\n",
       "      <td>0.24</td>\n",
       "      <td>0.41</td>\n",
       "    </tr>\n",
       "  </tbody>\n",
       "</table>\n",
       "</div>"
      ],
      "text/plain": [
       "             river  var-sortability  $r^2$-sortability  f1_var_sortnregress  \\\n",
       "0           danube             0.07               0.82                 0.08   \n",
       "1   lower-colorado             0.35               0.61                 0.09   \n",
       "2  middle-colorado             0.29               0.94                 0.10   \n",
       "3   upper-colorado             0.43               0.95                 0.26   \n",
       "\n",
       "   f1_var_sortnregress_reverse  f1_r2_sortnregress  f1_random  f1_pcmci  \n",
       "0                         0.19                0.17       0.12      0.56  \n",
       "1                         0.08                0.08       0.11      0.36  \n",
       "2                         0.23                0.26       0.15      0.26  \n",
       "3                         0.06                0.29       0.24      0.41  "
      ]
     },
     "execution_count": 12,
     "metadata": {},
     "output_type": "execute_result"
    }
   ],
   "source": [
    "results\n",
    "\n",
    "# round 4 decimals\n",
    "results = results.round(2)\n",
    "\n",
    "\n",
    "results"
   ]
  }
 ],
 "metadata": {
  "kernelspec": {
   "display_name": "sortabilitytime-wasiI92U-py3.12",
   "language": "python",
   "name": "python3"
  },
  "language_info": {
   "codemirror_mode": {
    "name": "ipython",
    "version": 3
   },
   "file_extension": ".py",
   "mimetype": "text/x-python",
   "name": "python",
   "nbconvert_exporter": "python",
   "pygments_lexer": "ipython3",
   "version": "3.12.10"
  }
 },
 "nbformat": 4,
 "nbformat_minor": 2
}
